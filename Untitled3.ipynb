{
 "cells": [
  {
   "cell_type": "code",
   "execution_count": 76,
   "metadata": {},
   "outputs": [],
   "source": [
    "import pandas as pd\n",
    "\n",
    "from keras.layers import Dense, Conv1D, MaxPool1D, LSTM, Dropout, Input, BatchNormalization, Flatten\n",
    "from keras.models import Model\n",
    "\n",
    "from sklearn.model_selection import train_test_split\n",
    "\n",
    "import numpy as np"
   ]
  },
  {
   "cell_type": "code",
   "execution_count": 2,
   "metadata": {},
   "outputs": [],
   "source": [
    "df = pd.read_csv('standardchartered.csv')"
   ]
  },
  {
   "cell_type": "code",
   "execution_count": 5,
   "metadata": {},
   "outputs": [
    {
     "data": {
      "text/html": [
       "<div>\n",
       "<style scoped>\n",
       "    .dataframe tbody tr th:only-of-type {\n",
       "        vertical-align: middle;\n",
       "    }\n",
       "\n",
       "    .dataframe tbody tr th {\n",
       "        vertical-align: top;\n",
       "    }\n",
       "\n",
       "    .dataframe thead th {\n",
       "        text-align: right;\n",
       "    }\n",
       "</style>\n",
       "<table border=\"1\" class=\"dataframe\">\n",
       "  <thead>\n",
       "    <tr style=\"text-align: right;\">\n",
       "      <th></th>\n",
       "      <th>Date</th>\n",
       "      <th>Open</th>\n",
       "      <th>High</th>\n",
       "      <th>Low</th>\n",
       "      <th>Close</th>\n",
       "      <th>Volume</th>\n",
       "      <th>Unnamed: 6</th>\n",
       "      <th>Unnamed: 7</th>\n",
       "      <th>Unnamed: 8</th>\n",
       "    </tr>\n",
       "  </thead>\n",
       "  <tbody>\n",
       "    <tr>\n",
       "      <th>0</th>\n",
       "      <td>3/24/2011</td>\n",
       "      <td>1785</td>\n",
       "      <td>1760</td>\n",
       "      <td>1700</td>\n",
       "      <td>1700</td>\n",
       "      <td>1140</td>\n",
       "      <td>NaN</td>\n",
       "      <td>NaN</td>\n",
       "      <td>NaN</td>\n",
       "    </tr>\n",
       "    <tr>\n",
       "      <th>1</th>\n",
       "      <td>3/25/2011</td>\n",
       "      <td>1700</td>\n",
       "      <td>1734</td>\n",
       "      <td>1676</td>\n",
       "      <td>1734</td>\n",
       "      <td>1252</td>\n",
       "      <td>NaN</td>\n",
       "      <td>NaN</td>\n",
       "      <td>NaN</td>\n",
       "    </tr>\n",
       "    <tr>\n",
       "      <th>2</th>\n",
       "      <td>3/27/2011</td>\n",
       "      <td>1734</td>\n",
       "      <td>1714</td>\n",
       "      <td>1690</td>\n",
       "      <td>1690</td>\n",
       "      <td>157</td>\n",
       "      <td>NaN</td>\n",
       "      <td>NaN</td>\n",
       "      <td>NaN</td>\n",
       "    </tr>\n",
       "    <tr>\n",
       "      <th>3</th>\n",
       "      <td>3/28/2011</td>\n",
       "      <td>1690</td>\n",
       "      <td>1680</td>\n",
       "      <td>1627</td>\n",
       "      <td>1627</td>\n",
       "      <td>270</td>\n",
       "      <td>NaN</td>\n",
       "      <td>NaN</td>\n",
       "      <td>NaN</td>\n",
       "    </tr>\n",
       "    <tr>\n",
       "      <th>4</th>\n",
       "      <td>3/29/2011</td>\n",
       "      <td>1627</td>\n",
       "      <td>1625</td>\n",
       "      <td>1568</td>\n",
       "      <td>1570</td>\n",
       "      <td>1150</td>\n",
       "      <td>NaN</td>\n",
       "      <td>NaN</td>\n",
       "      <td>NaN</td>\n",
       "    </tr>\n",
       "  </tbody>\n",
       "</table>\n",
       "</div>"
      ],
      "text/plain": [
       "        Date  Open  High   Low  Close  Volume  Unnamed: 6  Unnamed: 7  \\\n",
       "0  3/24/2011  1785  1760  1700   1700    1140         NaN         NaN   \n",
       "1  3/25/2011  1700  1734  1676   1734    1252         NaN         NaN   \n",
       "2  3/27/2011  1734  1714  1690   1690     157         NaN         NaN   \n",
       "3  3/28/2011  1690  1680  1627   1627     270         NaN         NaN   \n",
       "4  3/29/2011  1627  1625  1568   1570    1150         NaN         NaN   \n",
       "\n",
       "   Unnamed: 8  \n",
       "0         NaN  \n",
       "1         NaN  \n",
       "2         NaN  \n",
       "3         NaN  \n",
       "4         NaN  "
      ]
     },
     "execution_count": 5,
     "metadata": {},
     "output_type": "execute_result"
    }
   ],
   "source": [
    "df.head()"
   ]
  },
  {
   "cell_type": "code",
   "execution_count": 9,
   "metadata": {},
   "outputs": [],
   "source": [
    "df = df.drop(['Unnamed: 6', 'Unnamed: 7', 'Unnamed: 8'], axis=1)"
   ]
  },
  {
   "cell_type": "code",
   "execution_count": 26,
   "metadata": {},
   "outputs": [],
   "source": [
    "df = df.set_index('Date')"
   ]
  },
  {
   "cell_type": "code",
   "execution_count": 28,
   "metadata": {},
   "outputs": [
    {
     "data": {
      "text/html": [
       "<div>\n",
       "<style scoped>\n",
       "    .dataframe tbody tr th:only-of-type {\n",
       "        vertical-align: middle;\n",
       "    }\n",
       "\n",
       "    .dataframe tbody tr th {\n",
       "        vertical-align: top;\n",
       "    }\n",
       "\n",
       "    .dataframe thead th {\n",
       "        text-align: right;\n",
       "    }\n",
       "</style>\n",
       "<table border=\"1\" class=\"dataframe\">\n",
       "  <thead>\n",
       "    <tr style=\"text-align: right;\">\n",
       "      <th></th>\n",
       "      <th>Open</th>\n",
       "      <th>High</th>\n",
       "      <th>Low</th>\n",
       "      <th>Close</th>\n",
       "      <th>Volume</th>\n",
       "    </tr>\n",
       "    <tr>\n",
       "      <th>Date</th>\n",
       "      <th></th>\n",
       "      <th></th>\n",
       "      <th></th>\n",
       "      <th></th>\n",
       "      <th></th>\n",
       "    </tr>\n",
       "  </thead>\n",
       "  <tbody>\n",
       "    <tr>\n",
       "      <th>3/24/2011</th>\n",
       "      <td>1785</td>\n",
       "      <td>1760</td>\n",
       "      <td>1700</td>\n",
       "      <td>1700</td>\n",
       "      <td>1140</td>\n",
       "    </tr>\n",
       "    <tr>\n",
       "      <th>3/25/2011</th>\n",
       "      <td>1700</td>\n",
       "      <td>1734</td>\n",
       "      <td>1676</td>\n",
       "      <td>1734</td>\n",
       "      <td>1252</td>\n",
       "    </tr>\n",
       "    <tr>\n",
       "      <th>3/27/2011</th>\n",
       "      <td>1734</td>\n",
       "      <td>1714</td>\n",
       "      <td>1690</td>\n",
       "      <td>1690</td>\n",
       "      <td>157</td>\n",
       "    </tr>\n",
       "    <tr>\n",
       "      <th>3/28/2011</th>\n",
       "      <td>1690</td>\n",
       "      <td>1680</td>\n",
       "      <td>1627</td>\n",
       "      <td>1627</td>\n",
       "      <td>270</td>\n",
       "    </tr>\n",
       "    <tr>\n",
       "      <th>3/29/2011</th>\n",
       "      <td>1627</td>\n",
       "      <td>1625</td>\n",
       "      <td>1568</td>\n",
       "      <td>1570</td>\n",
       "      <td>1150</td>\n",
       "    </tr>\n",
       "  </tbody>\n",
       "</table>\n",
       "</div>"
      ],
      "text/plain": [
       "           Open  High   Low  Close  Volume\n",
       "Date                                      \n",
       "3/24/2011  1785  1760  1700   1700    1140\n",
       "3/25/2011  1700  1734  1676   1734    1252\n",
       "3/27/2011  1734  1714  1690   1690     157\n",
       "3/28/2011  1690  1680  1627   1627     270\n",
       "3/29/2011  1627  1625  1568   1570    1150"
      ]
     },
     "execution_count": 28,
     "metadata": {},
     "output_type": "execute_result"
    }
   ],
   "source": [
    "df.head()"
   ]
  },
  {
   "cell_type": "code",
   "execution_count": 36,
   "metadata": {},
   "outputs": [],
   "source": [
    "perChange = (df['Close'].shift(-1) / df['Close']) - 1"
   ]
  },
  {
   "cell_type": "code",
   "execution_count": 64,
   "metadata": {},
   "outputs": [
    {
     "data": {
      "text/plain": [
       "Date\n",
       "3/24/2011    0.020000\n",
       "3/25/2011   -0.025375\n",
       "3/27/2011   -0.037278\n",
       "3/28/2011   -0.035034\n",
       "3/29/2011    0.007006\n",
       "3/30/2011    0.025933\n",
       "3/31/2011    0.004932\n",
       "4/4/2011    -0.017791\n",
       "4/5/2011     0.005621\n",
       "4/6/2011     0.015528\n",
       "4/7/2011    -0.006116\n",
       "4/10/2011    0.009231\n",
       "4/11/2011    0.054878\n",
       "4/13/2011   -0.019653\n",
       "4/17/2011   -0.024175\n",
       "4/18/2011    0.000000\n",
       "4/19/2011   -0.018127\n",
       "4/20/2011   -0.015385\n",
       "4/21/2011   -0.015625\n",
       "4/25/2011   -0.015238\n",
       "4/26/2011    0.019342\n",
       "4/27/2011   -0.016445\n",
       "4/28/2011   -0.003215\n",
       "5/2/2011     0.003226\n",
       "5/3/2011    -0.009646\n",
       "5/4/2011     0.000000\n",
       "5/5/2011     0.002597\n",
       "5/8/2011     0.023316\n",
       "5/10/2011    0.006329\n",
       "5/11/2011    0.035849\n",
       "               ...   \n",
       "4/15/2013   -0.005982\n",
       "4/16/2013   -0.005470\n",
       "4/17/2013    0.001100\n",
       "4/18/2013   -0.008242\n",
       "4/21/2013   -0.000554\n",
       "4/22/2013    0.011641\n",
       "4/23/2013   -0.013699\n",
       "4/25/2013    0.000000\n",
       "4/28/2013    0.008333\n",
       "4/29/2013    0.005510\n",
       "4/30/2013   -0.013699\n",
       "5/2/2013    -0.016667\n",
       "5/5/2013    -0.025424\n",
       "5/6/2013     0.004058\n",
       "5/7/2013    -0.001155\n",
       "5/8/2013     0.017341\n",
       "5/9/2013     0.000000\n",
       "5/12/2013   -0.008523\n",
       "5/13/2013    0.002865\n",
       "5/14/2013   -0.001714\n",
       "5/15/2013    0.004579\n",
       "5/16/2013    0.017094\n",
       "5/19/2013    0.016807\n",
       "5/20/2013    0.004959\n",
       "5/21/2013   -0.004934\n",
       "5/22/2013   -0.008264\n",
       "5/23/2013    0.007222\n",
       "5/26/2013   -0.001655\n",
       "5/27/2013    0.000000\n",
       "5/28/2013         NaN\n",
       "Name: Close, Length: 500, dtype: float64"
      ]
     },
     "execution_count": 64,
     "metadata": {},
     "output_type": "execute_result"
    }
   ],
   "source": [
    "perChange"
   ]
  },
  {
   "cell_type": "code",
   "execution_count": 39,
   "metadata": {},
   "outputs": [],
   "source": [
    "y = perChange > 0"
   ]
  },
  {
   "cell_type": "code",
   "execution_count": 40,
   "metadata": {},
   "outputs": [],
   "source": [
    "y = y.astype(int)"
   ]
  },
  {
   "cell_type": "code",
   "execution_count": 47,
   "metadata": {},
   "outputs": [
    {
     "name": "stdout",
     "output_type": "stream",
     "text": [
      "Price went up 0.458 of the days\n"
     ]
    }
   ],
   "source": [
    "print(\"Price went up {} of the days\".format(sum(y == 1)/y.shape[0]))"
   ]
  },
  {
   "cell_type": "code",
   "execution_count": 43,
   "metadata": {},
   "outputs": [],
   "source": [
    "Xtrain, Xtest, ytrain, ytest = train_test_split(df, y, test_size=0.2, shuffle=False)"
   ]
  },
  {
   "cell_type": "code",
   "execution_count": 44,
   "metadata": {},
   "outputs": [
    {
     "name": "stdout",
     "output_type": "stream",
     "text": [
      "(400, 5)\n",
      "(100, 5)\n",
      "(400,)\n",
      "(100,)\n"
     ]
    }
   ],
   "source": [
    "print(Xtrain.shape)\n",
    "print(Xtest.shape)\n",
    "print(ytrain.shape)\n",
    "print(ytest.shape)"
   ]
  },
  {
   "cell_type": "code",
   "execution_count": 57,
   "metadata": {},
   "outputs": [],
   "source": [
    "X_train = np.asarray(Xtrain)\n",
    "X_test = np.asarray(Xtest)\n",
    "\n",
    "y_train = np.asarray(ytrain)\n",
    "y_test = np.asarray(ytest)"
   ]
  },
  {
   "cell_type": "code",
   "execution_count": 59,
   "metadata": {},
   "outputs": [],
   "source": [
    "def model():\n",
    "    inp = Input(shape=(None, 5))\n",
    "    \n",
    "    x = LSTM(256, return_sequences=True)(inp)\n",
    "    x = BatchNormalization()(x)\n",
    "    x = Dropout(0.5)(x)\n",
    "    \n",
    "    x = LSTM(128)(x)\n",
    "    x = BatchNormalization()(x)\n",
    "    x = Dropout(0.5)(x)\n",
    "    \n",
    "    x = Dense(64, activation='relu')(x)\n",
    "    x = BatchNormalization()(x)\n",
    "    x = Dropout(0.5)(x)\n",
    "    \n",
    "    x = Dense(32, activation='relu')(x)\n",
    "    x = BatchNormalization()(x)\n",
    "    x = Dropout(0.5)(x)\n",
    "    \n",
    "    x = Dense(1, activation='sigmoid')(x)\n",
    "    \n",
    "    model = Model(inp, x)\n",
    "    \n",
    "    model.compile('adam', 'binary_crossentropy', metrics=['accuracy'])\n",
    "    \n",
    "    return model"
   ]
  },
  {
   "cell_type": "code",
   "execution_count": 60,
   "metadata": {},
   "outputs": [],
   "source": [
    "model = model()"
   ]
  },
  {
   "cell_type": "code",
   "execution_count": 61,
   "metadata": {},
   "outputs": [
    {
     "name": "stdout",
     "output_type": "stream",
     "text": [
      "_________________________________________________________________\n",
      "Layer (type)                 Output Shape              Param #   \n",
      "=================================================================\n",
      "input_3 (InputLayer)         (None, None, 5)           0         \n",
      "_________________________________________________________________\n",
      "lstm_4 (LSTM)                (None, None, 256)         268288    \n",
      "_________________________________________________________________\n",
      "batch_normalization_6 (Batch (None, None, 256)         1024      \n",
      "_________________________________________________________________\n",
      "dropout_5 (Dropout)          (None, None, 256)         0         \n",
      "_________________________________________________________________\n",
      "lstm_5 (LSTM)                (None, 128)               197120    \n",
      "_________________________________________________________________\n",
      "batch_normalization_7 (Batch (None, 128)               512       \n",
      "_________________________________________________________________\n",
      "dropout_6 (Dropout)          (None, 128)               0         \n",
      "_________________________________________________________________\n",
      "dense_5 (Dense)              (None, 64)                8256      \n",
      "_________________________________________________________________\n",
      "batch_normalization_8 (Batch (None, 64)                256       \n",
      "_________________________________________________________________\n",
      "dropout_7 (Dropout)          (None, 64)                0         \n",
      "_________________________________________________________________\n",
      "dense_6 (Dense)              (None, 32)                2080      \n",
      "_________________________________________________________________\n",
      "batch_normalization_9 (Batch (None, 32)                128       \n",
      "_________________________________________________________________\n",
      "dropout_8 (Dropout)          (None, 32)                0         \n",
      "_________________________________________________________________\n",
      "dense_7 (Dense)              (None, 1)                 33        \n",
      "=================================================================\n",
      "Total params: 477,697\n",
      "Trainable params: 476,737\n",
      "Non-trainable params: 960\n",
      "_________________________________________________________________\n"
     ]
    }
   ],
   "source": [
    "model.summary()"
   ]
  },
  {
   "cell_type": "code",
   "execution_count": 63,
   "metadata": {},
   "outputs": [
    {
     "name": "stdout",
     "output_type": "stream",
     "text": [
      "Epoch 1/10\n",
      "400/400 [==============================] - 0s 1ms/step - loss: 1.0395 - acc: 0.4775\n",
      "Epoch 2/10\n",
      "400/400 [==============================] - 0s 582us/step - loss: 0.9444 - acc: 0.5300\n",
      "Epoch 3/10\n",
      "400/400 [==============================] - 0s 557us/step - loss: 1.0587 - acc: 0.4400\n",
      "Epoch 4/10\n",
      "400/400 [==============================] - 0s 919us/step - loss: 0.9865 - acc: 0.5025\n",
      "Epoch 5/10\n",
      "400/400 [==============================] - 0s 1ms/step - loss: 0.9063 - acc: 0.5275\n",
      "Epoch 6/10\n",
      "400/400 [==============================] - 0s 947us/step - loss: 0.9723 - acc: 0.4725\n",
      "Epoch 7/10\n",
      "400/400 [==============================] - 0s 641us/step - loss: 0.9208 - acc: 0.4625\n",
      "Epoch 8/10\n",
      "400/400 [==============================] - 0s 680us/step - loss: 0.8452 - acc: 0.5175\n",
      "Epoch 9/10\n",
      "400/400 [==============================] - 0s 590us/step - loss: 0.9503 - acc: 0.4850\n",
      "Epoch 10/10\n",
      "400/400 [==============================] - 0s 623us/step - loss: 0.8727 - acc: 0.5100\n"
     ]
    },
    {
     "data": {
      "text/plain": [
       "<keras.callbacks.History at 0x2cecb43db70>"
      ]
     },
     "execution_count": 63,
     "metadata": {},
     "output_type": "execute_result"
    }
   ],
   "source": [
    "model.fit(X_train.reshape(-1, 1, 5), y_train, epochs=10)"
   ]
  },
  {
   "cell_type": "code",
   "execution_count": 86,
   "metadata": {},
   "outputs": [],
   "source": [
    "def model1():\n",
    "    inp = Input(shape=(5,1))\n",
    "    \n",
    "    x = Conv1D(32, 3)(inp)\n",
    "    x = MaxPool1D(3)(x)\n",
    "    \n",
    "    x = Flatten()(x)\n",
    "    \n",
    "    x = Dense(16, activation='relu')(x)\n",
    "    x = BatchNormalization()(x)\n",
    "    x = Dropout(0.3)(x)\n",
    "    \n",
    "    x = Dense(1, activation='sigmoid')(x)\n",
    "    \n",
    "    model = Model(inp, x)\n",
    "    \n",
    "    model.compile('adam', 'binary_crossentropy', metrics=['accuracy'])\n",
    "    \n",
    "    return model"
   ]
  },
  {
   "cell_type": "code",
   "execution_count": 87,
   "metadata": {},
   "outputs": [],
   "source": [
    "model1 = model1()"
   ]
  },
  {
   "cell_type": "code",
   "execution_count": 88,
   "metadata": {},
   "outputs": [
    {
     "name": "stdout",
     "output_type": "stream",
     "text": [
      "_________________________________________________________________\n",
      "Layer (type)                 Output Shape              Param #   \n",
      "=================================================================\n",
      "input_10 (InputLayer)        (None, 5, 1)              0         \n",
      "_________________________________________________________________\n",
      "conv1d_7 (Conv1D)            (None, 3, 32)             128       \n",
      "_________________________________________________________________\n",
      "max_pooling1d_6 (MaxPooling1 (None, 1, 32)             0         \n",
      "_________________________________________________________________\n",
      "flatten_4 (Flatten)          (None, 32)                0         \n",
      "_________________________________________________________________\n",
      "dense_21 (Dense)             (None, 16)                528       \n",
      "_________________________________________________________________\n",
      "batch_normalization_18 (Batc (None, 16)                64        \n",
      "_________________________________________________________________\n",
      "dropout_17 (Dropout)         (None, 16)                0         \n",
      "_________________________________________________________________\n",
      "dense_22 (Dense)             (None, 1)                 17        \n",
      "=================================================================\n",
      "Total params: 737\n",
      "Trainable params: 705\n",
      "Non-trainable params: 32\n",
      "_________________________________________________________________\n"
     ]
    }
   ],
   "source": [
    "model1.summary()"
   ]
  },
  {
   "cell_type": "code",
   "execution_count": 89,
   "metadata": {},
   "outputs": [
    {
     "name": "stdout",
     "output_type": "stream",
     "text": [
      "Epoch 1/10\n",
      "400/400 [==============================] - 12s 29ms/step - loss: 0.7824 - acc: 0.4850\n",
      "Epoch 2/10\n",
      "400/400 [==============================] - 0s 266us/step - loss: 0.7946 - acc: 0.5125\n",
      "Epoch 3/10\n",
      "400/400 [==============================] - 0s 292us/step - loss: 0.7832 - acc: 0.4825\n",
      "Epoch 4/10\n",
      "400/400 [==============================] - 0s 291us/step - loss: 0.7516 - acc: 0.5100\n",
      "Epoch 5/10\n",
      "400/400 [==============================] - 0s 303us/step - loss: 0.7708 - acc: 0.4775\n",
      "Epoch 6/10\n",
      "400/400 [==============================] - 0s 283us/step - loss: 0.7518 - acc: 0.5100\n",
      "Epoch 7/10\n",
      "400/400 [==============================] - 0s 262us/step - loss: 0.7382 - acc: 0.5400\n",
      "Epoch 8/10\n",
      "400/400 [==============================] - 0s 313us/step - loss: 0.7637 - acc: 0.5150\n",
      "Epoch 9/10\n",
      "400/400 [==============================] - 0s 286us/step - loss: 0.7491 - acc: 0.5000\n",
      "Epoch 10/10\n",
      "400/400 [==============================] - 0s 307us/step - loss: 0.7512 - acc: 0.4900\n"
     ]
    },
    {
     "data": {
      "text/plain": [
       "<keras.callbacks.History at 0x2cf8bff8518>"
      ]
     },
     "execution_count": 89,
     "metadata": {},
     "output_type": "execute_result"
    }
   ],
   "source": [
    "model1.fit(X_train.reshape(-1, 5, 1), y_train, epochs=10)"
   ]
  },
  {
   "cell_type": "code",
   "execution_count": null,
   "metadata": {},
   "outputs": [],
   "source": []
  }
 ],
 "metadata": {
  "kernelspec": {
   "display_name": "Python 3",
   "language": "python",
   "name": "python3"
  },
  "language_info": {
   "codemirror_mode": {
    "name": "ipython",
    "version": 3
   },
   "file_extension": ".py",
   "mimetype": "text/x-python",
   "name": "python",
   "nbconvert_exporter": "python",
   "pygments_lexer": "ipython3",
   "version": "3.6.1"
  }
 },
 "nbformat": 4,
 "nbformat_minor": 2
}
