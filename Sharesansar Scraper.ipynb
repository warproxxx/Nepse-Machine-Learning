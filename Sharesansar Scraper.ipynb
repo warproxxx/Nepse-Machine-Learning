{
 "cells": [
  {
   "cell_type": "code",
   "execution_count": 1,
   "metadata": {},
   "outputs": [],
   "source": [
    "import time\n",
    "import datetime\n",
    "\n",
    "from selenium import webdriver\n",
    "from selenium.webdriver.common.keys import Keys\n",
    "from selenium.webdriver.support.ui import Select, WebDriverWait\n",
    "from selenium.webdriver.support import expected_conditions as EC\n",
    "from selenium.webdriver.common.by import By\n",
    "from selenium.webdriver.common.action_chains import ActionChains\n",
    "\n",
    "from bs4 import BeautifulSoup\n",
    "\n",
    "import pandas as pd"
   ]
  },
  {
   "cell_type": "code",
   "execution_count": 11,
   "metadata": {},
   "outputs": [],
   "source": [
    "driver = webdriver.Firefox()"
   ]
  },
  {
   "cell_type": "code",
   "execution_count": 12,
   "metadata": {},
   "outputs": [
    {
     "name": "stdout",
     "output_type": "stream",
     "text": [
      "Located\n"
     ]
    }
   ],
   "source": [
    "driver.get('http://sharesansar.com/price-history')\n",
    "\n",
    "companyDropdown = driver.find_element_by_id('company')\n",
    "\n",
    "try:\n",
    "    elem = WebDriverWait(driver, 2).until(EC.presence_of_element_located((By.ID, 'company')))\n",
    "    print(\"Located\")\n",
    "except TimeoutException:\n",
    "    print(\"Too much time\")"
   ]
  },
  {
   "cell_type": "code",
   "execution_count": 13,
   "metadata": {},
   "outputs": [],
   "source": [
    "select = Select(companyDropdown)\n",
    "options = [x.text for x in select.options]"
   ]
  },
  {
   "cell_type": "code",
   "execution_count": 14,
   "metadata": {},
   "outputs": [
    {
     "name": "stdout",
     "output_type": "stream",
     "text": [
      "Currently trying to scrape Aakash Capital Limited/ACL\n",
      "Currently trying to scrape Aankhu Khola Hydropower Company Limited/AANKHU\n",
      "Currently trying to scrape Aarambha Micro Finance Bittiya Sanstha Limited/AMFI\n"
     ]
    },
    {
     "ename": "KeyboardInterrupt",
     "evalue": "",
     "output_type": "error",
     "traceback": [
      "\u001b[1;31m---------------------------------------------------------------------------\u001b[0m",
      "\u001b[1;31mKeyboardInterrupt\u001b[0m                         Traceback (most recent call last)",
      "\u001b[1;32m<ipython-input-14-167d0b7efd94>\u001b[0m in \u001b[0;36m<module>\u001b[1;34m()\u001b[0m\n\u001b[0;32m     15\u001b[0m     \u001b[0mdriver\u001b[0m\u001b[1;33m.\u001b[0m\u001b[0mfind_elements_by_tag_name\u001b[0m\u001b[1;33m(\u001b[0m\u001b[1;34m'button'\u001b[0m\u001b[1;33m)\u001b[0m\u001b[1;33m[\u001b[0m\u001b[1;36m2\u001b[0m\u001b[1;33m]\u001b[0m\u001b[1;33m.\u001b[0m\u001b[0mclick\u001b[0m\u001b[1;33m(\u001b[0m\u001b[1;33m)\u001b[0m\u001b[1;33m\u001b[0m\u001b[0m\n\u001b[0;32m     16\u001b[0m \u001b[1;33m\u001b[0m\u001b[0m\n\u001b[1;32m---> 17\u001b[1;33m     \u001b[0mtime\u001b[0m\u001b[1;33m.\u001b[0m\u001b[0msleep\u001b[0m\u001b[1;33m(\u001b[0m\u001b[1;36m10\u001b[0m\u001b[1;33m)\u001b[0m\u001b[1;33m\u001b[0m\u001b[0m\n\u001b[0m\u001b[0;32m     18\u001b[0m \u001b[1;33m\u001b[0m\u001b[0m\n\u001b[0;32m     19\u001b[0m     \u001b[0msoup\u001b[0m \u001b[1;33m=\u001b[0m \u001b[0mBeautifulSoup\u001b[0m\u001b[1;33m(\u001b[0m\u001b[0mdriver\u001b[0m\u001b[1;33m.\u001b[0m\u001b[0mpage_source\u001b[0m\u001b[1;33m,\u001b[0m \u001b[1;34m'lxml'\u001b[0m\u001b[1;33m)\u001b[0m\u001b[1;33m\u001b[0m\u001b[0m\n",
      "\u001b[1;31mKeyboardInterrupt\u001b[0m: "
     ]
    }
   ],
   "source": [
    "for option in options:\n",
    "    print('Currently trying to scrape {}'.format(option))\n",
    "    driver.find_element_by_id('select2-company-container').click()\n",
    "    driver.find_element_by_tag_name('body').send_keys(option)\n",
    "    driver.find_element_by_tag_name('body').send_keys(Keys.ENTER)\n",
    "    \n",
    "    driver.find_element_by_id('fromdate').clear()\n",
    "    driver.find_element_by_id('fromdate').send_keys('2011-01-01')\n",
    "    \n",
    "    driver.find_element_by_id('todate').clear()\n",
    "    driver.find_element_by_id('todate').send_keys('2018-05-07')\n",
    "    \n",
    "    Select(driver.find_element_by_id('limit')).select_by_value('500')\n",
    "    \n",
    "    driver.find_elements_by_tag_name('button')[2].click()\n",
    "    \n",
    "    time.sleep(10)\n",
    "    \n",
    "    soup = BeautifulSoup(driver.page_source, 'lxml')\n",
    "    table = soup.find_all('table')[0]\n",
    "    \n",
    "    if (len(table) > 0):  \n",
    "        tempDf = pd.read_html(str(table),header=0)[0]\n",
    "        if (tempDf.shape[0] > 1):\n",
    "            df = pd.DataFrame(columns=tempDf.columns)\n",
    "            df = df.append(tempDf).reset_index(drop=True)\n",
    "\n",
    "            while (tempDf.shape[0] == 500):\n",
    "                newStart = df.iloc[-1]['Date']\n",
    "                newStartdt = datetime.datetime.strptime(newStart, '%M/%d/%Y')\n",
    "                startConv = newStartdt.strftime('%Y-%m-%d')\n",
    "                driver.find_element_by_id('fromdate').send_keys(newStart)\n",
    "\n",
    "                time.sleep(10)\n",
    "\n",
    "                soup = BeautifulSoup(driver.page_source, 'lxml')\n",
    "                table = soup.find_all('table')[0]\n",
    "\n",
    "                tempDf = pd.read_html(str(table),header=0)[0]\n",
    "                df = df.append(tempDf).reset_index(drop=True)\n",
    "            \n",
    "            tOption = option.replace('/', '-')\n",
    "            df.to_csv('data/{}.csv'.format(tOption))\n",
    "            print('Saved to data/{}.csv'.format(tOption))\n",
    "            print()"
   ]
  },
  {
   "cell_type": "code",
   "execution_count": null,
   "metadata": {},
   "outputs": [],
   "source": []
  }
 ],
 "metadata": {
  "kernelspec": {
   "display_name": "Python 3",
   "language": "python",
   "name": "python3"
  },
  "language_info": {
   "codemirror_mode": {
    "name": "ipython",
    "version": 3
   },
   "file_extension": ".py",
   "mimetype": "text/x-python",
   "name": "python",
   "nbconvert_exporter": "python",
   "pygments_lexer": "ipython3",
   "version": "3.6.1"
  }
 },
 "nbformat": 4,
 "nbformat_minor": 2
}
