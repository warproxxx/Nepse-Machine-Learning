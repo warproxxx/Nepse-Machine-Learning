{
 "cells": [
  {
   "cell_type": "code",
   "execution_count": 99,
   "metadata": {},
   "outputs": [],
   "source": [
    "import numpy as np \n",
    "import pandas as pd \n",
    "from keras.datasets import imdb\n",
    "from sklearn.feature_extraction.text import CountVectorizer\n",
    "from keras.preprocessing.text import Tokenizer\n",
    "from keras.preprocessing.sequence import pad_sequences\n",
    "from keras.models import Sequential, Model\n",
    "from keras.optimizers import Adam\n",
    "from keras.layers import Dense, Embedding, LSTM, Conv1D, MaxPool1D, Convolution1D, BatchNormalization, Dropout, Flatten, SpatialDropout1D, Input\n",
    "from sklearn.model_selection import train_test_split\n",
    "from keras.utils.np_utils import to_categorical\n",
    "import re\n"
   ]
  },
  {
   "cell_type": "code",
   "execution_count": 128,
   "metadata": {},
   "outputs": [],
   "source": [
    "\n",
    "def extract_dataset():\n",
    "    data = pd.read_csv('standardchartered.csv')\n",
    "    data = data.drop(['Unnamed: 6', 'Unnamed: 7', 'Unnamed: 8'], axis=1)\n",
    "    # Keeping only the neccessary columns\n",
    "    print('Extracting dataset...')\n",
    "    df = data.set_index('Date')\n",
    "    perChange = (df['Close'].shift(-1) / df['Close']) - 1\n",
    "    y = perChange > 0\n",
    "    y = y.astype(int)\n",
    "    #print(data)\n",
    "    return y, df"
   ]
  },
  {
   "cell_type": "code",
   "execution_count": 129,
   "metadata": {},
   "outputs": [
    {
     "name": "stdout",
     "output_type": "stream",
     "text": [
      "Extracting dataset...\n"
     ]
    }
   ],
   "source": [
    "y, df = extract_dataset()\n",
    "Xtrain, Xtest, ytrain, ytest = train_test_split(df, y, test_size=0.2, shuffle=False)\n",
    "X_train = np.asarray(Xtrain)\n",
    "X_test = np.asarray(Xtest)\n",
    "\n",
    "y_train = np.asarray(ytrain)\n",
    "y_test = np.asarray(ytest)\n"
   ]
  },
  {
   "cell_type": "code",
   "execution_count": 102,
   "metadata": {},
   "outputs": [],
   "source": []
  },
  {
   "cell_type": "code",
   "execution_count": 143,
   "metadata": {},
   "outputs": [],
   "source": [
    "def model():\n",
    "    inp = Input(shape=(None, 5))\n",
    "        \n",
    "    x = LSTM(256,return_sequences=True)(inp)\n",
    "    x = BatchNormalization()(x)\n",
    "    x = Dropout(0.3)(x)\n",
    "    \n",
    "    x = LSTM(256)(x)\n",
    "    x = BatchNormalization()(x)\n",
    "    x = Dropout(0.3)(x)\n",
    "\n",
    "    \n",
    "    x = Dense(1, activation='sigmoid')(x)\n",
    "    \n",
    "    model = Model(inp, x)\n",
    "    \n",
    "    model.compile('adam', 'binary_crossentropy', metrics=['accuracy'])\n",
    "    model.fit(X_train.reshape(-1, 1, 5), y_train, epochs=20)\n",
    "    return model"
   ]
  },
  {
   "cell_type": "code",
   "execution_count": 144,
   "metadata": {},
   "outputs": [
    {
     "name": "stdout",
     "output_type": "stream",
     "text": [
      "Epoch 1/20\n",
      "400/400 [==============================] - 4s 9ms/step - loss: 1.0427 - acc: 0.4800\n",
      "Epoch 2/20\n",
      "400/400 [==============================] - 1s 1ms/step - loss: 0.8362 - acc: 0.5300\n",
      "Epoch 3/20\n",
      "400/400 [==============================] - 1s 1ms/step - loss: 0.8457 - acc: 0.5075\n",
      "Epoch 4/20\n",
      "400/400 [==============================] - 1s 1ms/step - loss: 0.8465 - acc: 0.5125\n",
      "Epoch 5/20\n",
      "400/400 [==============================] - 1s 1ms/step - loss: 0.8558 - acc: 0.4675\n",
      "Epoch 6/20\n",
      "400/400 [==============================] - 1s 1ms/step - loss: 0.8155 - acc: 0.5275\n",
      "Epoch 7/20\n",
      "400/400 [==============================] - 1s 1ms/step - loss: 0.8733 - acc: 0.4800\n",
      "Epoch 8/20\n",
      "400/400 [==============================] - 1s 1ms/step - loss: 0.8276 - acc: 0.4875\n",
      "Epoch 9/20\n",
      "400/400 [==============================] - 1s 1ms/step - loss: 0.7874 - acc: 0.4975\n",
      "Epoch 10/20\n",
      "400/400 [==============================] - 1s 1ms/step - loss: 0.7946 - acc: 0.5250\n",
      "Epoch 11/20\n",
      "400/400 [==============================] - 1s 1ms/step - loss: 0.7728 - acc: 0.5275\n",
      "Epoch 12/20\n",
      "400/400 [==============================] - 1s 1ms/step - loss: 0.8007 - acc: 0.4775\n",
      "Epoch 13/20\n",
      "400/400 [==============================] - 1s 1ms/step - loss: 0.7734 - acc: 0.4950\n",
      "Epoch 14/20\n",
      "400/400 [==============================] - 1s 1ms/step - loss: 0.7586 - acc: 0.5025\n",
      "Epoch 15/20\n",
      "400/400 [==============================] - 1s 1ms/step - loss: 0.7490 - acc: 0.5325\n",
      "Epoch 16/20\n",
      "400/400 [==============================] - 1s 1ms/step - loss: 0.7519 - acc: 0.5425\n",
      "Epoch 17/20\n",
      "400/400 [==============================] - 1s 1ms/step - loss: 0.7800 - acc: 0.4975\n",
      "Epoch 18/20\n",
      "400/400 [==============================] - 1s 1ms/step - loss: 0.7950 - acc: 0.5025\n",
      "Epoch 19/20\n",
      "400/400 [==============================] - 1s 1ms/step - loss: 0.7775 - acc: 0.4525\n",
      "Epoch 20/20\n",
      "400/400 [==============================] - 1s 1ms/step - loss: 0.7521 - acc: 0.5350\n"
     ]
    }
   ],
   "source": [
    "model = model()"
   ]
  },
  {
   "cell_type": "code",
   "execution_count": null,
   "metadata": {},
   "outputs": [],
   "source": []
  }
 ],
 "metadata": {
  "kernelspec": {
   "display_name": "Python 3",
   "language": "python",
   "name": "python3"
  },
  "language_info": {
   "codemirror_mode": {
    "name": "ipython",
    "version": 3
   },
   "file_extension": ".py",
   "mimetype": "text/x-python",
   "name": "python",
   "nbconvert_exporter": "python",
   "pygments_lexer": "ipython3",
   "version": "3.6.4"
  }
 },
 "nbformat": 4,
 "nbformat_minor": 2
}
