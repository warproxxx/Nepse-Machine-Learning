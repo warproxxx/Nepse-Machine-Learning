{
 "cells": [
  {
   "cell_type": "code",
   "execution_count": 1,
   "metadata": {},
   "outputs": [],
   "source": [
    "#look at the file for ML code"
   ]
  },
  {
   "cell_type": "code",
   "execution_count": 3,
   "metadata": {},
   "outputs": [
    {
     "name": "stderr",
     "output_type": "stream",
     "text": [
      "c:\\programdata\\anaconda3\\lib\\site-packages\\h5py\\__init__.py:36: FutureWarning: Conversion of the second argument of issubdtype from `float` to `np.floating` is deprecated. In future, it will be treated as `np.float64 == np.dtype(float).type`.\n",
      "  from ._conv import register_converters as _register_converters\n",
      "Using TensorFlow backend.\n"
     ]
    }
   ],
   "source": [
    "import numpy as np\n",
    "import pandas as pd\n",
    "\n",
    "import datetime\n",
    "import time\n",
    "    \n",
    "from BackTest import strategyBacktest\n",
    "%matplotlib inline"
   ]
  },
  {
   "cell_type": "code",
   "execution_count": null,
   "metadata": {},
   "outputs": [
    {
     "name": "stdout",
     "output_type": "stream",
     "text": [
      "Real Y\n"
     ]
    },
    {
     "name": "stderr",
     "output_type": "stream",
     "text": [
      "C:\\Users\\User\\Desktop\\Dissertation\\CryptoPredictor\\CryptoPredictor\\BackTest\\backtester.py:210: UserWarning: Boolean Series key will be reindexed to match DataFrame index.\n",
      "  requiredcoins = closingsignals[self.positions['Coin'] == coin]\n",
      "C:\\Users\\User\\Desktop\\Dissertation\\CryptoPredictor\\CryptoPredictor\\BackTest\\backtester.py:212: UserWarning: Boolean Series key will be reindexed to match DataFrame index.\n",
      "  if(closingsignals[self.positions['Coin'] == coin].shape[0] != 0): #this also happens automatically with the other warning\n",
      "C:\\Users\\User\\Desktop\\Dissertation\\CryptoPredictor\\CryptoPredictor\\BackTest\\calculations.py:53: RuntimeWarning: divide by zero encountered in double_scalars\n",
      "  calmar = (np.average(percentage)/drawDown)\n"
     ]
    },
    {
     "name": "stdout",
     "output_type": "stream",
     "text": [
      "Portfolio Stats:\n",
      "Total Return: 82.1%\n",
      "Sharpe Ratio: 17.279 Calmar Ratio: -inf Sortino Ratio: nan Maximum Drawdown: 0.0%\n",
      "\n",
      "BTC Portfolio:\n",
      "Total Return: 48.37%\n",
      "Sharpe Ratio: 10.448 Calmar Ratio: -inf Sortino Ratio: 8.969 Maximum Drawdown: 0.0%\n",
      "Epoch 1/1000\n"
     ]
    }
   ],
   "source": [
    "class TeststrategyBacktest():\n",
    "    def __init__(self):\n",
    "        self.df = pd.read_csv('BackTest/tests/btc_test.csv')\n",
    "        self.df['Date'] = [int(time.mktime(datetime.datetime.strptime(x, '%m/%d/%Y').timetuple())) for x in self.df['Date']]\n",
    "        self.features = pd.DataFrame(columns=['Date', 'feature1', 'feature2'])\n",
    "        self.features['Date'] = self.df['Date']\n",
    "        \n",
    "        self.features['feature1'] = self.df['Close']/sum(self.df['Close'])\n",
    "        self.features['feature2'] = self.df['Open'] - np.mean(self.df['Open'])\n",
    "    \n",
    "    def test_mlBacktest(self):\n",
    "        sb = strategyBacktest(self.df, self.features)\n",
    "        sb.mlBacktest()\n",
    "        \n",
    "TeststrategyBacktest().test_mlBacktest()"
   ]
  },
  {
   "cell_type": "code",
   "execution_count": null,
   "metadata": {},
   "outputs": [],
   "source": []
  }
 ],
 "metadata": {
  "kernelspec": {
   "display_name": "Python 3",
   "language": "python",
   "name": "python3"
  },
  "language_info": {
   "codemirror_mode": {
    "name": "ipython",
    "version": 3
   },
   "file_extension": ".py",
   "mimetype": "text/x-python",
   "name": "python",
   "nbconvert_exporter": "python",
   "pygments_lexer": "ipython3",
   "version": "3.6.1"
  }
 },
 "nbformat": 4,
 "nbformat_minor": 2
}
